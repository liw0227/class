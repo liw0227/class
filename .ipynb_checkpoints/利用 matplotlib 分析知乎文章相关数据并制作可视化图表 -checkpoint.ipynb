{
 "cells": [
  {
   "cell_type": "code",
   "execution_count": 1,
   "metadata": {},
   "outputs": [
    {
     "ename": "FileNotFoundError",
     "evalue": "[Errno 2] No such file or directory: '/Users/liwenjie/Downloads/task_3.1_zhihu_timeline_answer.csv'",
     "output_type": "error",
     "traceback": [
      "\u001b[0;31m---------------------------------------------------------------------------\u001b[0m",
      "\u001b[0;31mFileNotFoundError\u001b[0m                         Traceback (most recent call last)",
      "\u001b[0;32m<ipython-input-1-82272038df70>\u001b[0m in \u001b[0;36m<module>\u001b[0;34m\u001b[0m\n\u001b[1;32m      1\u001b[0m \u001b[0;31m# 读取 CSV 格式文件“task_3.1_zhihu_timeline_answer.csv”，将数据命名为 zhihu_data_answer，并查看前部数据(阅读参考文章 1、2);\u001b[0m\u001b[0;34m\u001b[0m\u001b[0;34m\u001b[0m\u001b[0;34m\u001b[0m\u001b[0m\n\u001b[1;32m      2\u001b[0m \u001b[0;32mimport\u001b[0m \u001b[0mpandas\u001b[0m \u001b[0;32mas\u001b[0m \u001b[0mpd\u001b[0m\u001b[0;34m\u001b[0m\u001b[0;34m\u001b[0m\u001b[0m\n\u001b[0;32m----> 3\u001b[0;31m \u001b[0mf\u001b[0m \u001b[0;34m=\u001b[0m \u001b[0mopen\u001b[0m\u001b[0;34m(\u001b[0m\u001b[0;34m'/Users/liwenjie/Downloads/task_3.1_zhihu_timeline_answer.csv'\u001b[0m\u001b[0;34m)\u001b[0m\u001b[0;34m\u001b[0m\u001b[0;34m\u001b[0m\u001b[0m\n\u001b[0m\u001b[1;32m      4\u001b[0m \u001b[0mf\u001b[0m\u001b[0;34m.\u001b[0m\u001b[0mclose\u001b[0m\u001b[0;34m\u001b[0m\u001b[0;34m\u001b[0m\u001b[0m\n\u001b[1;32m      5\u001b[0m \u001b[0mzhihu_data_answer\u001b[0m \u001b[0;34m=\u001b[0m \u001b[0mpd\u001b[0m\u001b[0;34m.\u001b[0m\u001b[0mread_csv\u001b[0m\u001b[0;34m(\u001b[0m\u001b[0mf\u001b[0m\u001b[0;34m)\u001b[0m\u001b[0;34m\u001b[0m\u001b[0;34m\u001b[0m\u001b[0m\n",
      "\u001b[0;31mFileNotFoundError\u001b[0m: [Errno 2] No such file or directory: '/Users/liwenjie/Downloads/task_3.1_zhihu_timeline_answer.csv'"
     ]
    }
   ],
   "source": [
    "# 读取 CSV 格式文件“task_3.1_zhihu_timeline_answer.csv”，将数据命名为 zhihu_data_answer，并查看前部数据(阅读参考文章 1、2);\n",
    "import pandas as pd\n",
    "f = open('/Users/liwenjie/Downloads/task_3.1_zhihu_timeline_answer.csv')\n",
    "f.close\n",
    "zhihu_data_answer = pd.read_csv(f)\n",
    "zhihu_data_answer.head()"
   ]
  },
  {
   "cell_type": "code",
   "execution_count": null,
   "metadata": {},
   "outputs": [],
   "source": [
    "# 提取“task_3.1_zhihu_timeline_answer.csv”中【回答点赞数】和【回答感谢数】列数据，制成散点图， 观察两者的关系(阅读参考文章 3、4);\n",
    "list_like = zhihu_data_answer['回答点赞数'].values.tolist()\n",
    "list_thanks = zhihu_data_answer['回答感谢数'].values.tolist()\n",
    "import matplotlib.pyplot as plt\n",
    "'''显示中文'''\n",
    "plt.rcParams['font.sans-serif'] = ['SimHei']\n",
    "plt.scatter(list_like,list_thanks)\n",
    "plt.show()"
   ]
  },
  {
   "cell_type": "code",
   "execution_count": null,
   "metadata": {},
   "outputs": [],
   "source": [
    "# 提取“task_3.1_zhihu_timeline_answer.csv”中【问题回答数】和【问题关注数】列数据，制成散点图， 观察两者的关系;\n",
    "list_answer = zhihu_data_answer['问题回答数'].values.tolist()\n",
    "list_attention = zhihu_data_answer['问题关注数'].values.tolist()\n",
    "plt.scatter(list_answer,list_attention,c = 'r')\n",
    "plt.show()"
   ]
  },
  {
   "cell_type": "code",
   "execution_count": null,
   "metadata": {},
   "outputs": [],
   "source": [
    "# 读取 CSV 格式文件“task_3.2_zhihu_timeline_article.csv”，将数据命名为 zhihu_data_article，并查看 前部数据;\n",
    "f = open('/Users/liwenjie/Downloads/task_3.2_zhihu_timeline_article.csv')\n",
    "f.close\n",
    "zhihu_data_article = pd.read_csv(f)\n",
    "zhihu_data_article.head(10)"
   ]
  },
  {
   "cell_type": "code",
   "execution_count": null,
   "metadata": {},
   "outputs": [],
   "source": [
    "# 提取“task_3.2_zhihu_timeline_article.csv”中【文章点赞数】和【文章评论数】列数据，制成散点图， 观察两者的关系;\n",
    "list_likes = zhihu_data_article['文章点赞数'].values.tolist()\n",
    "list_comment = zhihu_data_article['文章评论数'].values.tolist()\n",
    "plt.rcParams['font.sans-serif']=['Arial Unicode MS']\n",
    "plt.rcParams['axes.unicode_minus'] = False\n",
    "plt.title('散点图')\n",
    "plt.scatter(list_likes, list_comment, c = 'o')\n",
    "plt.show()\n"
   ]
  },
  {
   "cell_type": "code",
   "execution_count": null,
   "metadata": {},
   "outputs": [],
   "source": [
    "# 提取“task_3.2_zhihu_timeline_article.csv”中【文章点赞数】低于 1000 的行数据，作出箱型图(阅读参 考文章 5)。\n",
    "list1000 =[i for i in list_likes if i < 1000]\n",
    "plt.boxplot(list1000)\n",
    "plt.title('箱型图')\n",
    "plt.show()"
   ]
  },
  {
   "cell_type": "code",
   "execution_count": null,
   "metadata": {},
   "outputs": [],
   "source": []
  }
 ],
 "metadata": {
  "file_extension": ".py",
  "kernelspec": {
   "display_name": "Python 3",
   "language": "python",
   "name": "python3"
  },
  "language_info": {
   "codemirror_mode": {
    "name": "ipython",
    "version": 3
   },
   "file_extension": ".py",
   "mimetype": "text/x-python",
   "name": "python",
   "nbconvert_exporter": "python",
   "pygments_lexer": "ipython3",
   "version": "3.7.4"
  },
  "mimetype": "text/x-python",
  "name": "python",
  "npconvert_exporter": "python",
  "pygments_lexer": "ipython3",
  "version": 3
 },
 "nbformat": 4,
 "nbformat_minor": 2
}
