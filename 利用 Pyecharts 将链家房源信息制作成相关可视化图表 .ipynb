{
 "nbformat": 4,
 "nbformat_minor": 2,
 "metadata": {
  "language_info": {
   "name": "python",
   "codemirror_mode": {
    "name": "ipython",
    "version": 3
   },
   "version": "3.7.3-final"
  },
  "orig_nbformat": 2,
  "file_extension": ".py",
  "mimetype": "text/x-python",
  "name": "python",
  "npconvert_exporter": "python",
  "pygments_lexer": "ipython3",
  "version": 3,
  "kernelspec": {
   "name": "python37364bitanaconda3virtualenv42d83016426b4ff794a4c5d770a3fae8",
   "display_name": "Python 3.7.3 64-bit ('anaconda3': virtualenv)"
  }
 },
 "cells": [
  {
   "cell_type": "code",
   "execution_count": 6,
   "metadata": {},
   "outputs": [
    {
     "data": {
      "text/html": "<div>\n<style scoped>\n    .dataframe tbody tr th:only-of-type {\n        vertical-align: middle;\n    }\n\n    .dataframe tbody tr th {\n        vertical-align: top;\n    }\n\n    .dataframe thead th {\n        text-align: right;\n    }\n</style>\n<table border=\"1\" class=\"dataframe\">\n  <thead>\n    <tr style=\"text-align: right;\">\n      <th></th>\n      <th>房型</th>\n      <th>价格</th>\n      <th>小区</th>\n      <th>面积（㎡）</th>\n      <th>建造年份</th>\n      <th>户型</th>\n      <th>朝向</th>\n      <th>装修类型</th>\n      <th>楼层</th>\n      <th>区域</th>\n    </tr>\n  </thead>\n  <tbody>\n    <tr>\n      <th>0</th>\n      <td>大华电梯两房/房型正气/开门南北通/房东诚意出售</td>\n      <td>76531</td>\n      <td>大华锦绣华城(十六街区)(公寓)</td>\n      <td>90.16</td>\n      <td>2010</td>\n      <td>2室2厅</td>\n      <td>南</td>\n      <td>简装</td>\n      <td>中楼层(共18层)</td>\n      <td>浦东</td>\n    </tr>\n    <tr>\n      <th>1</th>\n      <td>非底楼 满五年唯一 税费少 婚房装修 楼称佳 户型方正</td>\n      <td>52290</td>\n      <td>芳雅苑</td>\n      <td>63.11</td>\n      <td>1995</td>\n      <td>2室1厅</td>\n      <td>南</td>\n      <td>精装</td>\n      <td>低楼层(共6层)</td>\n      <td>浦东</td>\n    </tr>\n    <tr>\n      <th>2</th>\n      <td>满五唯一+7号线锦绣路+复式房+带阁楼+小区央位+精装</td>\n      <td>62878</td>\n      <td>锦博苑</td>\n      <td>79.52</td>\n      <td>2007</td>\n      <td>2室2厅</td>\n      <td>南</td>\n      <td>精装</td>\n      <td>高楼层(共6层)</td>\n      <td>浦东</td>\n    </tr>\n    <tr>\n      <th>3</th>\n      <td>13号线陈春路地铁400米中间楼层诚意卖看房方便</td>\n      <td>45866</td>\n      <td>鹏海小区</td>\n      <td>71.95</td>\n      <td>1997</td>\n      <td>2室1厅</td>\n      <td>南</td>\n      <td>简装</td>\n      <td>中楼层(共6层)</td>\n      <td>浦东</td>\n    </tr>\n    <tr>\n      <th>4</th>\n      <td>朝阳正气一房，采光好，坐看花园，户型方正，看房方便</td>\n      <td>83942</td>\n      <td>万邦都市花园</td>\n      <td>54.80</td>\n      <td>2004</td>\n      <td>1室1厅</td>\n      <td>南</td>\n      <td>简装</td>\n      <td>中楼层(共11层)</td>\n      <td>浦东</td>\n    </tr>\n  </tbody>\n</table>\n</div>",
      "text/plain": "                            房型     价格                 小区  面积（㎡）  建造年份     户型  \\\n0     大华电梯两房/房型正气/开门南北通/房东诚意出售  76531  大华锦绣华城(十六街区)(公寓)   90.16  2010  2室2厅    \n1  非底楼 满五年唯一 税费少 婚房装修 楼称佳 户型方正  52290               芳雅苑   63.11  1995  2室1厅    \n2  满五唯一+7号线锦绣路+复式房+带阁楼+小区央位+精装  62878               锦博苑   79.52  2007  2室2厅    \n3     13号线陈春路地铁400米中间楼层诚意卖看房方便  45866              鹏海小区   71.95  1997  2室1厅    \n4    朝阳正气一房，采光好，坐看花园，户型方正，看房方便  83942            万邦都市花园   54.80  2004  1室1厅    \n\n    朝向  装修类型           楼层  区域  \n0   南    简装    中楼层(共18层)   浦东  \n1   南    精装     低楼层(共6层)   浦东  \n2   南    精装     高楼层(共6层)   浦东  \n3   南    简装     中楼层(共6层)   浦东  \n4   南    简装    中楼层(共11层)   浦东  "
     },
     "execution_count": 6,
     "metadata": {},
     "output_type": "execute_result"
    }
   ],
   "source": [
    "# 读取 Task_4_lianjia_sale.csv 数据(阅读参考文章 2、3)，利用 groupby 函数，以【区域】字段进行 groupby， 同时结合 agg 聚合函数统计各个区域平均房价;\n",
    "import pandas as pd\n",
    "f = open('/Users/liwenjie/Downloads/Task_4_lianjia_sale.csv')\n",
    "f.close\n",
    "df = pd.read_csv(f)\n",
    "df.head()"
   ]
  },
  {
   "cell_type": "code",
   "execution_count": 7,
   "metadata": {},
   "outputs": [
    {
     "data": {
      "text/html": "<div>\n<style scoped>\n    .dataframe tbody tr th:only-of-type {\n        vertical-align: middle;\n    }\n\n    .dataframe tbody tr th {\n        vertical-align: top;\n    }\n\n    .dataframe thead th {\n        text-align: right;\n    }\n</style>\n<table border=\"1\" class=\"dataframe\">\n  <thead>\n    <tr style=\"text-align: right;\">\n      <th></th>\n      <th>区域平均价格</th>\n    </tr>\n    <tr>\n      <th>区域</th>\n      <th></th>\n    </tr>\n  </thead>\n  <tbody>\n    <tr>\n      <th>嘉定</th>\n      <td>36587.687199</td>\n    </tr>\n    <tr>\n      <th>奉贤</th>\n      <td>23662.131268</td>\n    </tr>\n    <tr>\n      <th>宝山</th>\n      <td>42577.796632</td>\n    </tr>\n    <tr>\n      <th>徐汇</th>\n      <td>75395.941983</td>\n    </tr>\n    <tr>\n      <th>普陀</th>\n      <td>57943.126871</td>\n    </tr>\n    <tr>\n      <th>杨浦</th>\n      <td>62726.673854</td>\n    </tr>\n    <tr>\n      <th>松江</th>\n      <td>36461.715479</td>\n    </tr>\n    <tr>\n      <th>浦东</th>\n      <td>55413.057914</td>\n    </tr>\n    <tr>\n      <th>虹口</th>\n      <td>66165.352834</td>\n    </tr>\n    <tr>\n      <th>金山</th>\n      <td>19304.818824</td>\n    </tr>\n    <tr>\n      <th>长宁</th>\n      <td>72099.617088</td>\n    </tr>\n    <tr>\n      <th>闵行</th>\n      <td>49080.587398</td>\n    </tr>\n    <tr>\n      <th>青浦</th>\n      <td>37078.860149</td>\n    </tr>\n    <tr>\n      <th>静安</th>\n      <td>74304.768542</td>\n    </tr>\n    <tr>\n      <th>黄浦</th>\n      <td>95015.086252</td>\n    </tr>\n  </tbody>\n</table>\n</div>",
      "text/plain": "          区域平均价格\n区域              \n嘉定  36587.687199\n奉贤  23662.131268\n宝山  42577.796632\n徐汇  75395.941983\n普陀  57943.126871\n杨浦  62726.673854\n松江  36461.715479\n浦东  55413.057914\n虹口  66165.352834\n金山  19304.818824\n长宁  72099.617088\n闵行  49080.587398\n青浦  37078.860149\n静安  74304.768542\n黄浦  95015.086252"
     },
     "execution_count": 7,
     "metadata": {},
     "output_type": "execute_result"
    }
   ],
   "source": [
    "# 将统计所得平均房价命名为【区域平均价格】列 (阅读参考文章 4、5)\n",
    "area = df.groupby('区域').价格.agg([('区域平均价格','mean')])\n",
    "area"
   ]
  },
  {
   "cell_type": "code",
   "execution_count": 8,
   "metadata": {},
   "outputs": [
    {
     "data": {
      "text/html": "<div>\n<style scoped>\n    .dataframe tbody tr th:only-of-type {\n        vertical-align: middle;\n    }\n\n    .dataframe tbody tr th {\n        vertical-align: top;\n    }\n\n    .dataframe thead th {\n        text-align: right;\n    }\n</style>\n<table border=\"1\" class=\"dataframe\">\n  <thead>\n    <tr style=\"text-align: right;\">\n      <th></th>\n      <th>区域平均价格</th>\n    </tr>\n    <tr>\n      <th>区域</th>\n      <th></th>\n    </tr>\n  </thead>\n  <tbody>\n    <tr>\n      <th>金山</th>\n      <td>19304.818824</td>\n    </tr>\n    <tr>\n      <th>奉贤</th>\n      <td>23662.131268</td>\n    </tr>\n    <tr>\n      <th>松江</th>\n      <td>36461.715479</td>\n    </tr>\n    <tr>\n      <th>嘉定</th>\n      <td>36587.687199</td>\n    </tr>\n    <tr>\n      <th>青浦</th>\n      <td>37078.860149</td>\n    </tr>\n  </tbody>\n</table>\n</div>",
      "text/plain": "          区域平均价格\n区域              \n金山  19304.818824\n奉贤  23662.131268\n松江  36461.715479\n嘉定  36587.687199\n青浦  37078.860149"
     },
     "execution_count": 8,
     "metadata": {},
     "output_type": "execute_result"
    }
   ],
   "source": [
    "# 并将数据从小到大按顺序排列(提示:df.sort_values(by = “ ”) (阅读参考文章 6));\n",
    "# 最后展示所得前 5 行数据 (将所得的 DataFrame 命名为 df_avg);\n",
    "\n",
    "\n",
    "df_avg = area.sort_values(by = '区域平均价格')\n",
    "df_avg.head(5)"
   ]
  },
  {
   "cell_type": "code",
   "execution_count": 9,
   "metadata": {},
   "outputs": [
    {
     "name": "stdout",
     "output_type": "stream",
     "text": "1.6.2\n"
    }
   ],
   "source": [
    "import pyecharts\n",
    "print(pyecharts.__version__)"
   ]
  },
  {
   "cell_type": "code",
   "execution_count": 10,
   "metadata": {},
   "outputs": [],
   "source": [
    "# 利用 Pyecharts 将第(1)问所得数据作条形图(阅读参考文章 7)，图表标题为“上海各区域平均价格”(提示: 最后用 render_notebook()渲染显示出图片);\n",
    "from pyecharts.charts import Bar\n",
    "from pyecharts import options as opts\n",
    "x = df_avg.index.values.tolist()\n",
    "y = df_avg['区域平均价格'].values.tolist()\n",
    "bar = (\n",
    "    Bar()\n",
    "    .add_xaxis(x)\n",
    "    .add_yaxis('价格',y)\n",
    "    .set_global_opts(title_opts=opts.TitleOpts(title=\"上海各区域平均价格\"))\n",
    ")\n",
    "bar.reversal_axis() #翻转XY轴，将柱状图转换为条形图ba\n",
    "bar.render()\n",
    "bar.render_notebook()"
   ]
  },
  {
   "cell_type": "code",
   "execution_count": null,
   "metadata": {},
   "outputs": [],
   "source": []
  }
 ]
}