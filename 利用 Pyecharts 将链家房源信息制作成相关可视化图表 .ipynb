{
 "nbformat": 4,
 "nbformat_minor": 2,
 "metadata": {
  "language_info": {
   "name": "python",
   "codemirror_mode": {
    "name": "ipython",
    "version": 3
   },
   "version": "3.7.3-final"
  },
  "orig_nbformat": 2,
  "file_extension": ".py",
  "mimetype": "text/x-python",
  "name": "python",
  "npconvert_exporter": "python",
  "pygments_lexer": "ipython3",
  "version": 3,
  "kernelspec": {
   "name": "python37364bitanaconda3virtualenv42d83016426b4ff794a4c5d770a3fae8",
   "display_name": "Python 3.7.3 64-bit ('anaconda3': virtualenv)"
  }
 },
 "cells": [
  {
   "cell_type": "code",
   "execution_count": 9,
   "metadata": {},
   "outputs": [
    {
     "data": {
      "text/html": "<div>\n<style scoped>\n    .dataframe tbody tr th:only-of-type {\n        vertical-align: middle;\n    }\n\n    .dataframe tbody tr th {\n        vertical-align: top;\n    }\n\n    .dataframe thead th {\n        text-align: right;\n    }\n</style>\n<table border=\"1\" class=\"dataframe\">\n  <thead>\n    <tr style=\"text-align: right;\">\n      <th></th>\n      <th>房型</th>\n      <th>价格</th>\n      <th>小区</th>\n      <th>面积（㎡）</th>\n      <th>建造年份</th>\n      <th>户型</th>\n      <th>朝向</th>\n      <th>装修类型</th>\n      <th>楼层</th>\n      <th>区域</th>\n    </tr>\n  </thead>\n  <tbody>\n    <tr>\n      <th>0</th>\n      <td>大华电梯两房/房型正气/开门南北通/房东诚意出售</td>\n      <td>76531</td>\n      <td>大华锦绣华城(十六街区)(公寓)</td>\n      <td>90.16</td>\n      <td>2010</td>\n      <td>2室2厅</td>\n      <td>南</td>\n      <td>简装</td>\n      <td>中楼层(共18层)</td>\n      <td>浦东</td>\n    </tr>\n    <tr>\n      <th>1</th>\n      <td>非底楼 满五年唯一 税费少 婚房装修 楼称佳 户型方正</td>\n      <td>52290</td>\n      <td>芳雅苑</td>\n      <td>63.11</td>\n      <td>1995</td>\n      <td>2室1厅</td>\n      <td>南</td>\n      <td>精装</td>\n      <td>低楼层(共6层)</td>\n      <td>浦东</td>\n    </tr>\n    <tr>\n      <th>2</th>\n      <td>满五唯一+7号线锦绣路+复式房+带阁楼+小区央位+精装</td>\n      <td>62878</td>\n      <td>锦博苑</td>\n      <td>79.52</td>\n      <td>2007</td>\n      <td>2室2厅</td>\n      <td>南</td>\n      <td>精装</td>\n      <td>高楼层(共6层)</td>\n      <td>浦东</td>\n    </tr>\n    <tr>\n      <th>3</th>\n      <td>13号线陈春路地铁400米中间楼层诚意卖看房方便</td>\n      <td>45866</td>\n      <td>鹏海小区</td>\n      <td>71.95</td>\n      <td>1997</td>\n      <td>2室1厅</td>\n      <td>南</td>\n      <td>简装</td>\n      <td>中楼层(共6层)</td>\n      <td>浦东</td>\n    </tr>\n    <tr>\n      <th>4</th>\n      <td>朝阳正气一房，采光好，坐看花园，户型方正，看房方便</td>\n      <td>83942</td>\n      <td>万邦都市花园</td>\n      <td>54.80</td>\n      <td>2004</td>\n      <td>1室1厅</td>\n      <td>南</td>\n      <td>简装</td>\n      <td>中楼层(共11层)</td>\n      <td>浦东</td>\n    </tr>\n  </tbody>\n</table>\n</div>",
      "text/plain": "                            房型     价格                 小区  面积（㎡）  建造年份     户型  \\\n0     大华电梯两房/房型正气/开门南北通/房东诚意出售  76531  大华锦绣华城(十六街区)(公寓)   90.16  2010  2室2厅    \n1  非底楼 满五年唯一 税费少 婚房装修 楼称佳 户型方正  52290               芳雅苑   63.11  1995  2室1厅    \n2  满五唯一+7号线锦绣路+复式房+带阁楼+小区央位+精装  62878               锦博苑   79.52  2007  2室2厅    \n3     13号线陈春路地铁400米中间楼层诚意卖看房方便  45866              鹏海小区   71.95  1997  2室1厅    \n4    朝阳正气一房，采光好，坐看花园，户型方正，看房方便  83942            万邦都市花园   54.80  2004  1室1厅    \n\n    朝向  装修类型           楼层  区域  \n0   南    简装    中楼层(共18层)   浦东  \n1   南    精装     低楼层(共6层)   浦东  \n2   南    精装     高楼层(共6层)   浦东  \n3   南    简装     中楼层(共6层)   浦东  \n4   南    简装    中楼层(共11层)   浦东  "
     },
     "execution_count": 9,
     "metadata": {},
     "output_type": "execute_result"
    }
   ],
   "source": [
    "# 读取 Task_4_lianjia_sale.csv 数据(阅读参考文章 2、3)，利用 groupby 函数，以【区域】字段进行 groupby， 同时结合 agg 聚合函数统计各个区域平均房价;\n",
    "import pandas as pd\n",
    "f = open('/Users/liwenjie/Downloads/Task_4_lianjia_sale.csv')\n",
    "f.close\n",
    "df = pd.read_csv(f)\n",
    "df.head()"
   ]
  },
  {
   "cell_type": "code",
   "execution_count": 10,
   "metadata": {},
   "outputs": [
    {
     "data": {
      "text/html": "<div>\n<style scoped>\n    .dataframe tbody tr th:only-of-type {\n        vertical-align: middle;\n    }\n\n    .dataframe tbody tr th {\n        vertical-align: top;\n    }\n\n    .dataframe thead th {\n        text-align: right;\n    }\n</style>\n<table border=\"1\" class=\"dataframe\">\n  <thead>\n    <tr style=\"text-align: right;\">\n      <th></th>\n      <th>区域平均价格</th>\n    </tr>\n    <tr>\n      <th>区域</th>\n      <th></th>\n    </tr>\n  </thead>\n  <tbody>\n    <tr>\n      <th>嘉定</th>\n      <td>36587.687199</td>\n    </tr>\n    <tr>\n      <th>奉贤</th>\n      <td>23662.131268</td>\n    </tr>\n    <tr>\n      <th>宝山</th>\n      <td>42577.796632</td>\n    </tr>\n    <tr>\n      <th>徐汇</th>\n      <td>75395.941983</td>\n    </tr>\n    <tr>\n      <th>普陀</th>\n      <td>57943.126871</td>\n    </tr>\n    <tr>\n      <th>杨浦</th>\n      <td>62726.673854</td>\n    </tr>\n    <tr>\n      <th>松江</th>\n      <td>36461.715479</td>\n    </tr>\n    <tr>\n      <th>浦东</th>\n      <td>55413.057914</td>\n    </tr>\n    <tr>\n      <th>虹口</th>\n      <td>66165.352834</td>\n    </tr>\n    <tr>\n      <th>金山</th>\n      <td>19304.818824</td>\n    </tr>\n    <tr>\n      <th>长宁</th>\n      <td>72099.617088</td>\n    </tr>\n    <tr>\n      <th>闵行</th>\n      <td>49080.587398</td>\n    </tr>\n    <tr>\n      <th>青浦</th>\n      <td>37078.860149</td>\n    </tr>\n    <tr>\n      <th>静安</th>\n      <td>74304.768542</td>\n    </tr>\n    <tr>\n      <th>黄浦</th>\n      <td>95015.086252</td>\n    </tr>\n  </tbody>\n</table>\n</div>",
      "text/plain": "          区域平均价格\n区域              \n嘉定  36587.687199\n奉贤  23662.131268\n宝山  42577.796632\n徐汇  75395.941983\n普陀  57943.126871\n杨浦  62726.673854\n松江  36461.715479\n浦东  55413.057914\n虹口  66165.352834\n金山  19304.818824\n长宁  72099.617088\n闵行  49080.587398\n青浦  37078.860149\n静安  74304.768542\n黄浦  95015.086252"
     },
     "execution_count": 10,
     "metadata": {},
     "output_type": "execute_result"
    }
   ],
   "source": [
    "# 将统计所得平均房价命名为【区域平均价格】列 (阅读参考文章 4、5)\n",
    "area = df.groupby('区域').价格.agg([('区域平均价格','mean')])\n",
    "area"
   ]
  },
  {
   "cell_type": "code",
   "execution_count": 11,
   "metadata": {},
   "outputs": [
    {
     "data": {
      "text/html": "<div>\n<style scoped>\n    .dataframe tbody tr th:only-of-type {\n        vertical-align: middle;\n    }\n\n    .dataframe tbody tr th {\n        vertical-align: top;\n    }\n\n    .dataframe thead th {\n        text-align: right;\n    }\n</style>\n<table border=\"1\" class=\"dataframe\">\n  <thead>\n    <tr style=\"text-align: right;\">\n      <th></th>\n      <th>区域平均价格</th>\n    </tr>\n    <tr>\n      <th>区域</th>\n      <th></th>\n    </tr>\n  </thead>\n  <tbody>\n    <tr>\n      <th>金山</th>\n      <td>19304.82</td>\n    </tr>\n    <tr>\n      <th>奉贤</th>\n      <td>23662.13</td>\n    </tr>\n    <tr>\n      <th>松江</th>\n      <td>36461.72</td>\n    </tr>\n    <tr>\n      <th>嘉定</th>\n      <td>36587.69</td>\n    </tr>\n    <tr>\n      <th>青浦</th>\n      <td>37078.86</td>\n    </tr>\n  </tbody>\n</table>\n</div>",
      "text/plain": "      区域平均价格\n区域          \n金山  19304.82\n奉贤  23662.13\n松江  36461.72\n嘉定  36587.69\n青浦  37078.86"
     },
     "execution_count": 11,
     "metadata": {},
     "output_type": "execute_result"
    }
   ],
   "source": [
    "# 并将数据从小到大按顺序排列(提示:df.sort_values(by = “ ”) (阅读参考文章 6));\n",
    "# 最后展示所得前 5 行数据 (将所得的 DataFrame 命名为 df_avg);\n",
    "\n",
    "\n",
    "df_avg = area.sort_values(by = '区域平均价格').round(2)\n",
    "df_avg.head(5)"
   ]
  },
  {
   "cell_type": "code",
   "execution_count": 12,
   "metadata": {},
   "outputs": [
    {
     "name": "stdout",
     "output_type": "stream",
     "text": "1.6.2\n"
    }
   ],
   "source": [
    "import pyecharts\n",
    "print(pyecharts.__version__)"
   ]
  },
  {
   "cell_type": "code",
   "execution_count": 13,
   "metadata": {},
   "outputs": [
    {
     "data": {
      "application/javascript": "new Promise(function(resolve, reject) {\n    var script = document.createElement(\"script\");\n    script.onload = resolve;\n    script.onerror = reject;\n    script.src = \"https://assets.pyecharts.org/assets/echarts.min.js\";\n    document.head.appendChild(script);\n}).then(() => {\n\n});",
      "text/plain": "<pyecharts.render.display.Javascript at 0x7feb58601828>"
     },
     "execution_count": 13,
     "metadata": {},
     "output_type": "execute_result"
    }
   ],
   "source": [
    "# 利用 Pyecharts 将第(1)问所得数据作条形图(阅读参考文章 7)，图表标题为“上海各区域平均价格”(提示: 最后用 render_notebook()渲染显示出图片);\n",
    "from pyecharts.globals import CurrentConfig, NotebookType\n",
    "CurrentConfig.NOTEBOOK_TYPE = NotebookType.JUPYTER_LAB\n",
    "from pyecharts.charts import Bar\n",
    "from pyecharts import options as opts\n",
    "x = df_avg.index.values.tolist()\n",
    "y = df_avg['区域平均价格'].values.tolist()\n",
    "bar = (\n",
    "    Bar()\n",
    "    .add_xaxis(x)\n",
    "    .add_yaxis('价格',y)\n",
    "    .set_global_opts(title_opts=opts.TitleOpts(title=\"上海各区域平均价格\"))\n",
    "    .set_series_opts(label_opts=opts.LabelOpts(position=\"right\"))\n",
    ")\n",
    "bar.reversal_axis() #翻转XY轴，将柱状图转换为条形图ba\n",
    "bar.load_javascript() #加载JavaScript渲染"
   ]
  },
  {
   "cell_type": "code",
   "execution_count": 14,
   "metadata": {},
   "outputs": [
    {
     "data": {
      "text/html": "<!DOCTYPE html>\n<html>\n<head>\n    <meta charset=\"UTF-8\">\n</head>\n<body>\n        <div id=\"52f9c258f8b84b5092df4c19caa43c58\" class=\"chart-container\" style=\"width:900px; height:500px;\"></div>\n    <script>\n        var chart_52f9c258f8b84b5092df4c19caa43c58 = echarts.init(\n            document.getElementById('52f9c258f8b84b5092df4c19caa43c58'), 'white', {renderer: 'canvas'});\n        var option_52f9c258f8b84b5092df4c19caa43c58 = {\n    \"animation\": true,\n    \"animationThreshold\": 2000,\n    \"animationDuration\": 1000,\n    \"animationEasing\": \"cubicOut\",\n    \"animationDelay\": 0,\n    \"animationDurationUpdate\": 300,\n    \"animationEasingUpdate\": \"cubicOut\",\n    \"animationDelayUpdate\": 0,\n    \"color\": [\n        \"#c23531\",\n        \"#2f4554\",\n        \"#61a0a8\",\n        \"#d48265\",\n        \"#749f83\",\n        \"#ca8622\",\n        \"#bda29a\",\n        \"#6e7074\",\n        \"#546570\",\n        \"#c4ccd3\",\n        \"#f05b72\",\n        \"#ef5b9c\",\n        \"#f47920\",\n        \"#905a3d\",\n        \"#fab27b\",\n        \"#2a5caa\",\n        \"#444693\",\n        \"#726930\",\n        \"#b2d235\",\n        \"#6d8346\",\n        \"#ac6767\",\n        \"#1d953f\",\n        \"#6950a1\",\n        \"#918597\"\n    ],\n    \"series\": [\n        {\n            \"type\": \"bar\",\n            \"name\": \"\\u4ef7\\u683c\",\n            \"data\": [\n                19304.82,\n                23662.13,\n                36461.72,\n                36587.69,\n                37078.86,\n                42577.8,\n                49080.59,\n                55413.06,\n                57943.13,\n                62726.67,\n                66165.35,\n                72099.62,\n                74304.77,\n                75395.94,\n                95015.09\n            ],\n            \"barCategoryGap\": \"20%\",\n            \"label\": {\n                \"show\": true,\n                \"position\": \"right\",\n                \"margin\": 8\n            },\n            \"rippleEffect\": {\n                \"show\": true,\n                \"brushType\": \"stroke\",\n                \"scale\": 2.5,\n                \"period\": 4\n            }\n        }\n    ],\n    \"legend\": [\n        {\n            \"data\": [\n                \"\\u4ef7\\u683c\"\n            ],\n            \"selected\": {\n                \"\\u4ef7\\u683c\": true\n            },\n            \"show\": true,\n            \"padding\": 5,\n            \"itemGap\": 10,\n            \"itemWidth\": 25,\n            \"itemHeight\": 14\n        }\n    ],\n    \"tooltip\": {\n        \"show\": true,\n        \"trigger\": \"item\",\n        \"triggerOn\": \"mousemove|click\",\n        \"axisPointer\": {\n            \"type\": \"line\"\n        },\n        \"textStyle\": {\n            \"fontSize\": 14\n        },\n        \"borderWidth\": 0\n    },\n    \"xAxis\": [\n        {\n            \"show\": true,\n            \"scale\": false,\n            \"nameLocation\": \"end\",\n            \"nameGap\": 15,\n            \"gridIndex\": 0,\n            \"inverse\": false,\n            \"offset\": 0,\n            \"splitNumber\": 5,\n            \"minInterval\": 0,\n            \"splitLine\": {\n                \"show\": false,\n                \"lineStyle\": {\n                    \"width\": 1,\n                    \"opacity\": 1,\n                    \"curveness\": 0,\n                    \"type\": \"solid\"\n                }\n            }\n        }\n    ],\n    \"yAxis\": [\n        {\n            \"show\": true,\n            \"scale\": false,\n            \"nameLocation\": \"end\",\n            \"nameGap\": 15,\n            \"gridIndex\": 0,\n            \"inverse\": false,\n            \"offset\": 0,\n            \"splitNumber\": 5,\n            \"minInterval\": 0,\n            \"splitLine\": {\n                \"show\": false,\n                \"lineStyle\": {\n                    \"width\": 1,\n                    \"opacity\": 1,\n                    \"curveness\": 0,\n                    \"type\": \"solid\"\n                }\n            },\n            \"data\": [\n                \"\\u91d1\\u5c71\",\n                \"\\u5949\\u8d24\",\n                \"\\u677e\\u6c5f\",\n                \"\\u5609\\u5b9a\",\n                \"\\u9752\\u6d66\",\n                \"\\u5b9d\\u5c71\",\n                \"\\u95f5\\u884c\",\n                \"\\u6d66\\u4e1c\",\n                \"\\u666e\\u9640\",\n                \"\\u6768\\u6d66\",\n                \"\\u8679\\u53e3\",\n                \"\\u957f\\u5b81\",\n                \"\\u9759\\u5b89\",\n                \"\\u5f90\\u6c47\",\n                \"\\u9ec4\\u6d66\"\n            ]\n        }\n    ],\n    \"title\": [\n        {\n            \"text\": \"\\u4e0a\\u6d77\\u5404\\u533a\\u57df\\u5e73\\u5747\\u4ef7\\u683c\",\n            \"padding\": 5,\n            \"itemGap\": 10\n        }\n    ]\n};\n        chart_52f9c258f8b84b5092df4c19caa43c58.setOption(option_52f9c258f8b84b5092df4c19caa43c58);\n    </script>\n</body>\n</html>\n",
      "text/plain": "<pyecharts.render.display.HTML at 0x7feb697ad438>"
     },
     "execution_count": 14,
     "metadata": {},
     "output_type": "execute_result"
    }
   ],
   "source": [
    "bar.render_notebook()  # 第一次运行要,先加载JavaScript渲染并分开写才显示.直到关闭本次软件前可以不用分开写并正常渲染."
   ]
  },
  {
   "cell_type": "code",
   "execution_count": 15,
   "metadata": {},
   "outputs": [
    {
     "data": {
      "text/html": "<div>\n<style scoped>\n    .dataframe tbody tr th:only-of-type {\n        vertical-align: middle;\n    }\n\n    .dataframe tbody tr th {\n        vertical-align: top;\n    }\n\n    .dataframe thead th {\n        text-align: right;\n    }\n</style>\n<table border=\"1\" class=\"dataframe\">\n  <thead>\n    <tr style=\"text-align: right;\">\n      <th></th>\n      <th>房源数量</th>\n    </tr>\n    <tr>\n      <th>装修类型</th>\n      <th></th>\n    </tr>\n  </thead>\n  <tbody>\n    <tr>\n      <th>其他</th>\n      <td>5414</td>\n    </tr>\n    <tr>\n      <th>毛坯</th>\n      <td>5357</td>\n    </tr>\n    <tr>\n      <th>简装</th>\n      <td>22819</td>\n    </tr>\n    <tr>\n      <th>精装</th>\n      <td>32425</td>\n    </tr>\n  </tbody>\n</table>\n</div>",
      "text/plain": "       房源数量\n装修类型       \n 其他    5414\n 毛坯    5357\n 简装   22819\n 精装   32425"
     },
     "execution_count": 15,
     "metadata": {},
     "output_type": "execute_result"
    }
   ],
   "source": [
    "# 利用 groupby 函数，以【装修类型】字段进行 groupby，同时结合 agg 聚合函数统计各个区域房源数量;\n",
    "# 将统计所得数据命名为【房源数量】列;最后展示所得数据(将所得的 DataFrame 命名为 df_zhuangxiu);\n",
    "\n",
    "\n",
    "df_zhuangxiu = df.groupby('装修类型')['区域'].agg([('房源数量','count'),])\n",
    "df_zhuangxiu"
   ]
  },
  {
   "cell_type": "code",
   "execution_count": 16,
   "metadata": {},
   "outputs": [
    {
     "data": {
      "text/html": "<!DOCTYPE html>\n<html>\n<head>\n    <meta charset=\"UTF-8\">\n</head>\n<body>\n        <div id=\"d0167ae843bf4c709009293618f64643\" class=\"chart-container\" style=\"width:900px; height:500px;\"></div>\n    <script>\n        var chart_d0167ae843bf4c709009293618f64643 = echarts.init(\n            document.getElementById('d0167ae843bf4c709009293618f64643'), 'white', {renderer: 'canvas'});\n        var option_d0167ae843bf4c709009293618f64643 = {\n    \"animation\": true,\n    \"animationThreshold\": 2000,\n    \"animationDuration\": 1000,\n    \"animationEasing\": \"cubicOut\",\n    \"animationDelay\": 0,\n    \"animationDurationUpdate\": 300,\n    \"animationEasingUpdate\": \"cubicOut\",\n    \"animationDelayUpdate\": 0,\n    \"color\": [\n        \"#c23531\",\n        \"#2f4554\",\n        \"#61a0a8\",\n        \"#d48265\",\n        \"#749f83\",\n        \"#ca8622\",\n        \"#bda29a\",\n        \"#6e7074\",\n        \"#546570\",\n        \"#c4ccd3\",\n        \"#f05b72\",\n        \"#ef5b9c\",\n        \"#f47920\",\n        \"#905a3d\",\n        \"#fab27b\",\n        \"#2a5caa\",\n        \"#444693\",\n        \"#726930\",\n        \"#b2d235\",\n        \"#6d8346\",\n        \"#ac6767\",\n        \"#1d953f\",\n        \"#6950a1\",\n        \"#918597\"\n    ],\n    \"series\": [\n        {\n            \"type\": \"pie\",\n            \"clockwise\": true,\n            \"data\": [\n                {\n                    \"name\": \" \\u5176\\u4ed6 \",\n                    \"value\": 5414\n                },\n                {\n                    \"name\": \" \\u6bdb\\u576f \",\n                    \"value\": 5357\n                },\n                {\n                    \"name\": \" \\u7b80\\u88c5 \",\n                    \"value\": 22819\n                },\n                {\n                    \"name\": \" \\u7cbe\\u88c5 \",\n                    \"value\": 32425\n                }\n            ],\n            \"radius\": [\n                \"0%\",\n                \"75%\"\n            ],\n            \"center\": [\n                \"50%\",\n                \"50%\"\n            ],\n            \"label\": {\n                \"show\": true,\n                \"position\": \"top\",\n                \"margin\": 8,\n                \"formatter\": \"{b}\\u623f\\u6e90\\u6570\\u91cf\\u4e3a:{c}\"\n            },\n            \"rippleEffect\": {\n                \"show\": true,\n                \"brushType\": \"stroke\",\n                \"scale\": 2.5,\n                \"period\": 4\n            }\n        }\n    ],\n    \"legend\": [\n        {\n            \"data\": [\n                \" \\u5176\\u4ed6 \",\n                \" \\u6bdb\\u576f \",\n                \" \\u7b80\\u88c5 \",\n                \" \\u7cbe\\u88c5 \"\n            ],\n            \"selected\": {},\n            \"show\": true,\n            \"padding\": 5,\n            \"itemGap\": 10,\n            \"itemWidth\": 25,\n            \"itemHeight\": 14\n        }\n    ],\n    \"tooltip\": {\n        \"show\": true,\n        \"trigger\": \"item\",\n        \"triggerOn\": \"mousemove|click\",\n        \"axisPointer\": {\n            \"type\": \"line\"\n        },\n        \"textStyle\": {\n            \"fontSize\": 14\n        },\n        \"borderWidth\": 0\n    },\n    \"title\": [\n        {\n            \"text\": \"Pie-\\u57fa\\u672c\\u793a\\u4f8b\",\n            \"padding\": 5,\n            \"itemGap\": 10\n        }\n    ]\n};\n        chart_d0167ae843bf4c709009293618f64643.setOption(option_d0167ae843bf4c709009293618f64643);\n    </script>\n</body>\n</html>\n",
      "text/plain": "<pyecharts.render.display.HTML at 0x7feb58601cf8>"
     },
     "execution_count": 16,
     "metadata": {},
     "output_type": "execute_result"
    }
   ],
   "source": [
    "# 利用 Pyecharts 将第(3)问所得数据作饼图(阅读参考文章 7、8)，图表标题为“装修类型占比情况”(提示: v1=[\"啤酒\",\"可乐\",\"雪碧\",\"咖啡\",\"奶茶\"] v2=[30,19,21,12,18]，a = [list(z) for z in zip(v1,v2)]， 则生成 v1 与 v2 一一对应的数据)。\n",
    "from pyecharts.charts import Pie\n",
    "a = df_zhuangxiu.index.values.tolist()\n",
    "b = df_zhuangxiu['房源数量'].values.tolist()\n",
    "c = (\n",
    "        Pie()\n",
    "        .add(\"\", [list(z) for z in zip(a, b)])\n",
    "        .set_global_opts(title_opts=opts.TitleOpts(title=\"Pie-基本示例\"))\n",
    "        #.set_colors([\"blue\", \"green\", \"yellow\", \"red\", \"pink\", \"orange\", \"purple\"])#设置颜色\n",
    "        .set_series_opts(label_opts=opts.LabelOpts(formatter=\"{b}房源数量为:{c}\"))\n",
    "    )\n",
    "c.render_notebook()"
   ]
  },
  {
   "cell_type": "code",
   "execution_count": null,
   "metadata": {},
   "outputs": [],
   "source": []
  }
 ]
}